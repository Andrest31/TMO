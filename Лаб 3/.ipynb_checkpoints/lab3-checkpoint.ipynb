{
 "cells": [
  {
   "cell_type": "markdown",
   "metadata": {},
   "source": [
    "Лабораторная работа\n",
    "Подготовка обучающей и тестовой выборки, кросс-валидация и подбор гиперпараметров на примере метода ближайших соседей.\n",
    "\n",
    "Цель лабораторной работы: изучение способов подготовки выборки и подбора гиперпараметров на примере метода ближайших соседей.\n",
    "Требования к отчету:\n",
    "\n",
    "Отчет по лабораторной работе должен содержать:\n",
    "\n",
    "    титульный лист;\n",
    "    описание задания;\n",
    "    текст программы;\n",
    "    экранные формы с примерами выполнения программы.\n",
    "\n",
    "Задание:\n",
    "\n",
    "    Выберите набор данных (датасет) для решения задачи классификации или регрессии.\n",
    "    В случае необходимости проведите удаление или заполнение пропусков и кодирование категориальных признаков.\n",
    "    С использованием метода train_test_split разделите выборку на обучающую и тестовую.\n",
    "    Обучите модель ближайших соседей для произвольно заданного гиперпараметра K. Оцените качество модели с помощью подходящих для задачи метрик.\n",
    "    Произведите подбор гиперпараметра K с использованием GridSearchCV и RandomizedSearchCV и кросс-валидации, оцените качество оптимальной модели. Используйте не менее двух стратегий кросс-валидации.\n",
    "    Сравните метрики качества исходной и оптимальной моделей.\n"
   ]
  },
  {
   "cell_type": "code",
   "execution_count": 1,
   "metadata": {
    "vscode": {
     "languageId": "plaintext"
    }
   },
   "outputs": [
    {
     "name": "stdout",
     "output_type": "stream",
     "text": [
      "Баланс классов:\n",
      " High_Transaction\n",
      "0    0.586631\n",
      "1    0.413369\n",
      "Name: proportion, dtype: float64\n"
     ]
    },
    {
     "ename": "NameError",
     "evalue": "name 'StratifiedShuffleSplit' is not defined",
     "output_type": "error",
     "traceback": [
      "\u001b[1;31m---------------------------------------------------------------------------\u001b[0m",
      "\u001b[1;31mNameError\u001b[0m                                 Traceback (most recent call last)",
      "Cell \u001b[1;32mIn[1], line 29\u001b[0m\n\u001b[0;32m     26\u001b[0m X_scaled \u001b[38;5;241m=\u001b[39m scaler\u001b[38;5;241m.\u001b[39mfit_transform(X)\n\u001b[0;32m     28\u001b[0m \u001b[38;5;66;03m# 5. StratifiedShuffleSplit для сбалансированного разбиения\u001b[39;00m\n\u001b[1;32m---> 29\u001b[0m sss \u001b[38;5;241m=\u001b[39m \u001b[43mStratifiedShuffleSplit\u001b[49m(n_splits\u001b[38;5;241m=\u001b[39m\u001b[38;5;241m1\u001b[39m, test_size\u001b[38;5;241m=\u001b[39m\u001b[38;5;241m0.2\u001b[39m, random_state\u001b[38;5;241m=\u001b[39m\u001b[38;5;241m42\u001b[39m)\n\u001b[0;32m     30\u001b[0m \u001b[38;5;28;01mfor\u001b[39;00m train_index, test_index \u001b[38;5;129;01min\u001b[39;00m sss\u001b[38;5;241m.\u001b[39msplit(X_scaled, y):\n\u001b[0;32m     31\u001b[0m     X_train, X_test \u001b[38;5;241m=\u001b[39m X_scaled[train_index], X_scaled[test_index]\n",
      "\u001b[1;31mNameError\u001b[0m: name 'StratifiedShuffleSplit' is not defined"
     ]
    }
   ],
   "source": [
    "import pandas as pd\n",
    "import numpy as np\n",
    "from sklearn.preprocessing import StandardScaler\n",
    "from sklearn.model_selection import train_test_split, GridSearchCV, RandomizedSearchCV, cross_val_score, KFold, StratifiedKFold\n",
    "from sklearn.neighbors import KNeighborsClassifier\n",
    "from sklearn.metrics import classification_report\n",
    "\n",
    "# Генерация случайного датасета (замени на свой CSV)\n",
    "np.random.seed(42)\n",
    "df = pd.read_csv(\"./coffee_shop_sales.csv\").sample(frac=0.03, random_state=42)\n",
    "\n",
    "\n",
    "# 1. Создаём целевой признак на основе медианы transaction_qty\n",
    "threshold = df[\"transaction_qty\"].median()\n",
    "df[\"High_Transaction\"] = (df[\"transaction_qty\"] > threshold).astype(int)\n",
    "\n",
    "# 2. Проверяем баланс классов\n",
    "print(\"Баланс классов:\\n\", df[\"High_Transaction\"].value_counts(normalize=True))\n",
    "\n",
    "# 3. Убираем утечки данных (transaction_qty не должен быть в X)\n",
    "X = df[['store_id', 'product_id', 'unit_price', 'Total_Bill', 'Hour', 'Month', 'Day of Week']]\n",
    "y = df['High_Transaction']\n",
    "\n",
    "# 4. Масштабируем числовые признаки\n",
    "scaler = StandardScaler()\n",
    "X_scaled = scaler.fit_transform(X)\n",
    "\n",
    "# 5. StratifiedShuffleSplit для сбалансированного разбиения\n",
    "sss = StratifiedShuffleSplit(n_splits=1, test_size=0.2, random_state=42)\n",
    "for train_index, test_index in sss.split(X_scaled, y):\n",
    "    X_train, X_test = X_scaled[train_index], X_scaled[test_index]\n",
    "    y_train, y_test = y.iloc[train_index], y.iloc[test_index]\n",
    "\n",
    "# 6. Обучаем KNN с K=5\n",
    "knn = KNeighborsClassifier(n_neighbors=5)\n",
    "knn.fit(X_train, y_train)\n",
    "y_pred = knn.predict(X_test)\n",
    "\n",
    "# 7. Метрики для K=5\n",
    "print(\"Метрики качества для K=5:\")\n",
    "print(classification_report(y_test, y_pred))\n",
    "\n",
    "# 8. Подбор оптимального K через RandomizedSearchCV\n",
    "param_dist = {'n_neighbors': np.arange(1, 21)}\n",
    "grid_search = GridSearchCV(KNeighborsClassifier(), param_dist, cv=5, scoring='accuracy')\n",
    "grid_search.fit(X_train, y_train)\n",
    "print(\"Лучшее значение K по GridSearchCV:\", grid_search.best_params_)\n",
    "\n",
    "# 9. Подбор оптимального K через RandomizedSearchCV\n",
    "random_search = RandomizedSearchCV(KNeighborsClassifier(), param_distributions=param_dist, n_iter=10, cv=5, scoring='accuracy', random_state=42)\n",
    "random_search.fit(X_train, y_train)\n",
    "best_k = random_search.best_params_['n_neighbors']\n",
    "print(f\"Лучшее значение K по RandomizedSearchCV: {best_k}\")\n",
    "\n",
    "# Кросс-валидация KFold\n",
    "kf = KFold(n_splits=5, shuffle=True, random_state=42)\n",
    "kf_scores = cross_val_score(KNeighborsClassifier(n_neighbors=grid_search.best_params_['n_neighbors']), X_train, y_train, cv=kf, scoring='accuracy')\n",
    "print(\"Средняя точность по KFold:\", np.mean(kf_scores))\n",
    "\n",
    "# Кросс-валидация с StratifiedKFold\n",
    "skf = StratifiedKFold(n_splits=5, shuffle=True, random_state=42)\n",
    "skf_scores = cross_val_score(KNeighborsClassifier(n_neighbors=grid_search.best_params_['n_neighbors']), X_train, y_train, cv=skf, scoring='accuracy')\n",
    "print(\"Средняя точность по StratifiedKFold:\", np.mean(skf_scores))\n",
    "\n",
    "# 10. Обучаем модель с оптимальным K\n",
    "best_knn = KNeighborsClassifier(n_neighbors=best_k)\n",
    "best_knn.fit(X_train, y_train)\n",
    "y_best_pred = best_knn.predict(X_test)\n",
    "\n",
    "# 11. Метрики для лучшей модели\n",
    "print(\"Метрики качества для оптимального K:\")\n",
    "print(classification_report(y_test, y_best_pred))\n"
   ]
  },
  {
   "cell_type": "code",
   "execution_count": null,
   "metadata": {},
   "outputs": [],
   "source": []
  },
  {
   "cell_type": "code",
   "execution_count": null,
   "metadata": {},
   "outputs": [],
   "source": []
  }
 ],
 "metadata": {
  "kernelspec": {
   "display_name": "Python 3 (ipykernel)",
   "language": "python",
   "name": "python3"
  },
  "language_info": {
   "codemirror_mode": {
    "name": "ipython",
    "version": 3
   },
   "file_extension": ".py",
   "mimetype": "text/x-python",
   "name": "python",
   "nbconvert_exporter": "python",
   "pygments_lexer": "ipython3",
   "version": "3.12.6"
  }
 },
 "nbformat": 4,
 "nbformat_minor": 4
}
